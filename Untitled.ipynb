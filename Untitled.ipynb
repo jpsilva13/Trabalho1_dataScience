{
 "cells": [
  {
   "cell_type": "code",
   "execution_count": 12,
   "id": "475d8802",
   "metadata": {
    "scrolled": true
   },
   "outputs": [
    {
     "name": "stdout",
     "output_type": "stream",
     "text": [
      "O número de homens é: 266 \n",
      "O número de mulheres é: 383\n",
      "A média de mulheres é  59 %\n",
      "A média de homens é  40 %\n",
      "[15, 16, 17, 18, 19, 20, 21, 22]\n",
      "[112, 177, 179, 140, 32, 6, 2, 1]\n"
     ]
    },
    {
     "data": {
      "text/plain": [
       "Text(0.5, 0, 'Idades:')"
      ]
     },
     "execution_count": 12,
     "metadata": {},
     "output_type": "execute_result"
    },
    {
     "data": {
      "image/png": "[encoded data removed]",
      "text/plain": [
       "<Figure size 432x288 with 1 Axes>"
      ]
     },
     "metadata": {
      "needs_background": "light"
     },
     "output_type": "display_data"
    }
   ],
   "source": [
    "import pandas as pd\n",
    "import matplotlib.pyplot as plt \n",
    "import math as math\n",
    "\n",
    "df = pd.read_csv (r'C:\\Users\\Cliente\\Desktop\\EAD\\2021-C\\Data Science\\Nova pasta\\student-por.csv',sep=';')\n",
    "cHomens=0\n",
    "cMulhrs=0\n",
    "vetorPi=[]\n",
    "vetorPi\n",
    "for sexo in df['sex']:\n",
    "    if(sexo=='M'):\n",
    "        cHomens=cHomens+1\n",
    "    elif(sexo=='F'):\n",
    "        cMulhrs=cMulhrs+1\n",
    "print(\"O número de homens é:\",cHomens,\"\\nO número de mulheres é:\",cMulhrs)\n",
    "print( \"A média de mulheres é \",math.trunc(cMulhrs/(cMulhrs+cHomens)*100),\"%\")\n",
    "print( \"A média de homens é \",math.trunc(cHomens/(cMulhrs+cHomens)*100),\"%\")\n",
    "n=0\n",
    "vetorIdades=[]\n",
    "vetorIdades\n",
    "for idade in df['age']:\n",
    "    if idade not in vetorIdades: \n",
    "        vetorIdades.append(idade)\n",
    "        n=n+1\n",
    "vetorIdades=sorted(vetorIdades)\n",
    "print (vetorIdades)\n",
    "for age in vetorIdades:\n",
    "    cont=0\n",
    "    for idades in df['age']:\n",
    "        if (age==idades):\n",
    "            cont=cont+1\n",
    "    vetorPi.append(cont)\n",
    "\n",
    "#o gráfico abaixo mostra o número de estudantes existente por idade\n",
    "print(vetorPi)       \n",
    "plt.bar(vetorIdades,vetorPi)\n",
    "plt.ylabel(\"Número de estudantes:\")\n",
    "plt.xlabel(\"Idades:\")"
   ]
  },
  {
   "cell_type": "code",
   "execution_count": null,
   "id": "c373e568",
   "metadata": {},
   "outputs": [],
   "source": []
  },
  {
   "cell_type": "code",
   "execution_count": null,
   "id": "7fd1202e",
   "metadata": {},
   "outputs": [],
   "source": [
    "\n",
    "\n",
    "        "
   ]
  },
  {
   "cell_type": "code",
   "execution_count": null,
   "id": "0575bb89",
   "metadata": {},
   "outputs": [],
   "source": []
  },
  {
   "cell_type": "code",
   "execution_count": null,
   "id": "3657aa27",
   "metadata": {},
   "outputs": [],
   "source": []
  },
  {
   "cell_type": "code",
   "execution_count": null,
   "id": "b8a36a9b",
   "metadata": {},
   "outputs": [],
   "source": []
  },
  {
   "cell_type": "code",
   "execution_count": null,
   "id": "4558b8e2",
   "metadata": {},
   "outputs": [],
   "source": []
  }
 ],
 "metadata": {
  "kernelspec": {
   "display_name": "Python 3",
   "language": "python",
   "name": "python3"
  }
 },
 "nbformat": 4,
 "nbformat_minor": 5
}
